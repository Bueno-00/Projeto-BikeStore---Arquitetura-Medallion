{
 "cells": [
  {
   "cell_type": "markdown",
   "metadata": {
    "application/vnd.databricks.v1+cell": {
     "cellMetadata": {},
     "inputWidgets": {},
     "nuid": "8a8f2406-ee86-4028-ac9a-a771b6afe479",
     "showTitle": false,
     "tableResultSettingsMap": {},
     "title": ""
    }
   },
   "source": [
    "Soma total de vendas por dia, ordens com status de \"Delivered\" e estate = NY"
   ]
  },
  {
   "cell_type": "code",
   "execution_count": 0,
   "metadata": {
    "application/vnd.databricks.v1+cell": {
     "cellMetadata": {
      "byteLimit": 2048000,
      "rowLimit": 10000
     },
     "inputWidgets": {},
     "nuid": "25cc56ac-423d-4580-bb00-27fada9fc1fd",
     "showTitle": false,
     "tableResultSettingsMap": {},
     "title": ""
    }
   },
   "outputs": [],
   "source": [
    "%python\n",
    "bronze_path = \"abfss://uc-external-curso-databricks-vf@sacursodatabricksvf.dfs.core.windows.net/bikestore/bronze/\"\n",
    "silver_path = \"abfss://uc-external-curso-databricks-vf@sacursodatabricksvf.dfs.core.windows.net/bikestore/silver/\"\n",
    "gold_path = \"abfss://uc-external-curso-databricks-vf@sacursodatabricksvf.dfs.core.windows.net/bikestore/gold/\"\n",
    "resource_path = \"abfss://uc-external-curso-databricks-vf@sacursodatabricksvf.dfs.core.windows.net/bikestore/resource/origem\"\n",
    "resource_path_volume = \"/Volumes/bikestore/logistica/bikestore_resource/origem/\""
   ]
  },
  {
   "cell_type": "code",
   "execution_count": 0,
   "metadata": {
    "application/vnd.databricks.v1+cell": {
     "cellMetadata": {
      "byteLimit": 2048000,
      "rowLimit": 10000
     },
     "inputWidgets": {},
     "nuid": "481db66a-855c-43c1-b46b-d27a5efd14aa",
     "showTitle": false,
     "tableResultSettingsMap": {},
     "title": ""
    }
   },
   "outputs": [],
   "source": [
    "%python\n",
    "silver_map= {\n",
    "    #\"tmp_silver_custumer\": f\"{silver_path}/customer/\",\n",
    "    \"tmp_silver_orders\": f\"{silver_path}/orders/\",\n",
    "    #\"tmp_silver_product\": f\"{silver_path}/product/\",\n",
    "}\n",
    "for view_name, path in silver_map.items():\n",
    "    (spark.read.format(\"delta\")\n",
    "     .load(path)\n",
    "     .createOrReplaceTempView(view_name))"
   ]
  },
  {
   "cell_type": "code",
   "execution_count": 0,
   "metadata": {
    "application/vnd.databricks.v1+cell": {
     "cellMetadata": {
      "byteLimit": 2048000,
      "rowLimit": 10000
     },
     "inputWidgets": {},
     "nuid": "4dc15aef-d627-4414-9c62-eb733f94cf9a",
     "showTitle": false,
     "tableResultSettingsMap": {},
     "title": ""
    }
   },
   "outputs": [],
   "source": [
    "SELECT * FROM tmp_silver_orders limit 5"
   ]
  },
  {
   "cell_type": "code",
   "execution_count": 0,
   "metadata": {
    "application/vnd.databricks.v1+cell": {
     "cellMetadata": {
      "byteLimit": 2048000,
      "rowLimit": 10000
     },
     "inputWidgets": {},
     "nuid": "c161d42e-f6ee-484c-af8a-9f5907cf0bb8",
     "showTitle": false,
     "tableResultSettingsMap": {
      "0": {
       "dataGridStateBlob": "{\"version\":1,\"tableState\":{\"columnPinning\":{\"left\":[\"#row_number#\"],\"right\":[]},\"columnSizing\":{},\"columnVisibility\":{}},\"settings\":{\"columns\":{}},\"syncTimestamp\":1759077795457}",
       "filterBlob": null,
       "queryPlanFiltersBlob": null,
       "tableResultIndex": 0
      }
     },
     "title": ""
    }
   },
   "outputs": [],
   "source": [
    "SELECT\n",
    "order_date,\n",
    "-- state,\n",
    "-- status,\n",
    "ROUND(sum(total_sale),2) as total_sale\n",
    "FROM tmp_silver_orders\n",
    "WHERE state = \"NY\"\n",
    "AND status = \"Delivered\"\n",
    "AND order_date IS NOT NULL\n",
    "GROUP BY order_date\n",
    "--, state, status \n",
    "ORDER BY order_date"
   ]
  },
  {
   "cell_type": "code",
   "execution_count": 0,
   "metadata": {
    "application/vnd.databricks.v1+cell": {
     "cellMetadata": {
      "byteLimit": 2048000,
      "rowLimit": 10000
     },
     "inputWidgets": {},
     "nuid": "0477f7d6-cd67-4d6f-8b1a-14bd5fa49141",
     "showTitle": false,
     "tableResultSettingsMap": {},
     "title": ""
    }
   },
   "outputs": [],
   "source": [
    "%python\n",
    "df_gold_ny_sales = spark.sql(\"\"\"\n",
    "SELECT\n",
    "order_date,\n",
    "-- state,\n",
    "-- status,\n",
    "ROUND(sum(total_sale),2) as total_sale\n",
    "FROM tmp_silver_orders\n",
    "WHERE state = \"NY\"\n",
    "AND status = \"Delivered\"\n",
    "AND order_date IS NOT NULL\n",
    "GROUP BY order_date\n",
    "--, state, status \n",
    "ORDER BY order_date                          \n",
    "                                   \"\"\")\n",
    "\n",
    "# salvando em delta na Silver\n",
    "df_gold_ny_sales.write.mode(\"overwrite\").format(\"delta\").save(f\"{gold_path}/ny_sales\")"
   ]
  },
  {
   "cell_type": "code",
   "execution_count": 0,
   "metadata": {
    "application/vnd.databricks.v1+cell": {
     "cellMetadata": {
      "byteLimit": 2048000,
      "rowLimit": 10000
     },
     "inputWidgets": {},
     "nuid": "d146488e-bce7-4984-b74a-daa1445205f2",
     "showTitle": false,
     "tableResultSettingsMap": {},
     "title": ""
    }
   },
   "outputs": [],
   "source": [
    "CREATE TABLE IF NOT EXISTS bikestore.logistica.gold_sales_ny\n",
    "LOCATION \"abfss://uc-external-curso-databricks-vf@sacursodatabricksvf.dfs.core.windows.net/bikestore/gold/ny_sales\""
   ]
  },
  {
   "cell_type": "code",
   "execution_count": 0,
   "metadata": {
    "application/vnd.databricks.v1+cell": {
     "cellMetadata": {
      "byteLimit": 2048000,
      "rowLimit": 10000
     },
     "inputWidgets": {},
     "nuid": "140ec37a-4afc-4977-870e-10f446183fc1",
     "showTitle": false,
     "tableResultSettingsMap": {},
     "title": ""
    }
   },
   "outputs": [],
   "source": [
    "SELECT * from bikestore.logistica.gold_sales_ny"
   ]
  }
 ],
 "metadata": {
  "application/vnd.databricks.v1+notebook": {
   "computePreferences": null,
   "dashboards": [],
   "environmentMetadata": {
    "base_environment": "",
    "environment_version": "3"
   },
   "inputWidgetPreferences": null,
   "language": "sql",
   "notebookMetadata": {
    "pythonIndentUnit": 4
   },
   "notebookName": "01.Gold Sales NY",
   "widgets": {}
  },
  "language_info": {
   "name": "sql"
  }
 },
 "nbformat": 4,
 "nbformat_minor": 0
}
