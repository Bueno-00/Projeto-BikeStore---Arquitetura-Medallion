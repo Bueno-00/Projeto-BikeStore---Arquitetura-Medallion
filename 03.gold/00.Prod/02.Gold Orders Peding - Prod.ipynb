{
 "cells": [
  {
   "cell_type": "code",
   "execution_count": 0,
   "metadata": {
    "application/vnd.databricks.v1+cell": {
     "cellMetadata": {
      "byteLimit": 2048000,
      "rowLimit": 10000
     },
     "inputWidgets": {},
     "nuid": "fbd12bc7-d1f6-44c3-b380-687ed335d211",
     "showTitle": false,
     "tableResultSettingsMap": {},
     "title": ""
    }
   },
   "outputs": [],
   "source": [
    "%python\n",
    "bronze_path = \"abfss://uc-external-curso-databricks-vf@sacursodatabricksvf.dfs.core.windows.net/bikestore/bronze/\"\n",
    "silver_path = \"abfss://uc-external-curso-databricks-vf@sacursodatabricksvf.dfs.core.windows.net/bikestore/silver/\"\n",
    "gold_path = \"abfss://uc-external-curso-databricks-vf@sacursodatabricksvf.dfs.core.windows.net/bikestore/gold/\"\n",
    "resource_path = \"abfss://uc-external-curso-databricks-vf@sacursodatabricksvf.dfs.core.windows.net/bikestore/resource/origem\"\n",
    "resource_path_volume = \"/Volumes/bikestore/logistica/bikestore_resource/origem/\""
   ]
  },
  {
   "cell_type": "code",
   "execution_count": 0,
   "metadata": {
    "application/vnd.databricks.v1+cell": {
     "cellMetadata": {
      "byteLimit": 2048000,
      "rowLimit": 10000
     },
     "inputWidgets": {},
     "nuid": "5b6309bb-c0f2-4b9f-8cb9-35bcee43f288",
     "showTitle": false,
     "tableResultSettingsMap": {},
     "title": ""
    }
   },
   "outputs": [],
   "source": [
    "%python\n",
    "silver_map= {\n",
    "    \"tmp_silver_custumer\": f\"{silver_path}/customer/\",\n",
    "    \"tmp_silver_orders\": f\"{silver_path}/orders/\",\n",
    "    # \"tmp_silver_product\": f\"{silver_path}/product/\",\n",
    "}\n",
    "for view_name, path in silver_map.items():\n",
    "    (spark.read.format(\"delta\")\n",
    "     .load(path)\n",
    "     .createOrReplaceTempView(view_name))"
   ]
  },
  {
   "cell_type": "code",
   "execution_count": 0,
   "metadata": {
    "application/vnd.databricks.v1+cell": {
     "cellMetadata": {
      "byteLimit": 2048000,
      "rowLimit": 10000
     },
     "inputWidgets": {},
     "nuid": "6e069019-385b-47af-b2b3-dd49cb3b2184",
     "showTitle": false,
     "tableResultSettingsMap": {},
     "title": ""
    }
   },
   "outputs": [],
   "source": [
    "%python\n",
    "df_gold_orders_peding = spark.sql(\"\"\"\n",
    "with pending as (\n",
    "\n",
    "  SELECT\n",
    "customer_id,\n",
    "order_date,\n",
    "sum(quantity) as quantity,\n",
    "store_name\n",
    "-- lower(status) as status\n",
    "FROM tmp_silver_orders\n",
    "WHERE 1=1\n",
    "AND lower(status) = \"pending\"\n",
    "GROUP BY customer_id, order_date, store_name\n",
    "--, status\n",
    "\n",
    ")\n",
    "\n",
    "SELECT\n",
    "  p.*, \n",
    "  c.first_name as first_name_customer,\n",
    "  c.last_name,\n",
    "  c.email,\n",
    "  c.phone\n",
    "FROM pending p\n",
    "LEFT JOIN tmp_silver_custumer c\n",
    "  ON p.customer_id = c.customer_id\n",
    "WHERE 1=1\n",
    "AND c.email IS NOT NULL\n",
    "AND c.phone IS NOT NULL                        \n",
    "                                   \"\"\")\n",
    "\n",
    "# salvando em delta na Silver\n",
    "df_gold_orders_peding.write.mode(\"overwrite\").format(\"delta\").save(f\"{gold_path}/orders_pending\")"
   ]
  }
 ],
 "metadata": {
  "application/vnd.databricks.v1+notebook": {
   "computePreferences": null,
   "dashboards": [],
   "environmentMetadata": {
    "base_environment": "",
    "environment_version": "3"
   },
   "inputWidgetPreferences": null,
   "language": "sql",
   "notebookMetadata": {
    "pythonIndentUnit": 4
   },
   "notebookName": "02.Gold Orders Peding - Prod",
   "widgets": {}
  },
  "language_info": {
   "name": "sql"
  }
 },
 "nbformat": 4,
 "nbformat_minor": 0
}
