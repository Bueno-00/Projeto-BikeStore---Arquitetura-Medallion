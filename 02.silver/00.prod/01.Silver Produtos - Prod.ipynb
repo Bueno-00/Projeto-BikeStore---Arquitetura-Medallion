{
 "cells": [
  {
   "cell_type": "code",
   "execution_count": 0,
   "metadata": {
    "application/vnd.databricks.v1+cell": {
     "cellMetadata": {
      "byteLimit": 2048000,
      "rowLimit": 10000
     },
     "inputWidgets": {},
     "nuid": "bb34462b-da1b-448c-b9cd-9f8698270d37",
     "showTitle": false,
     "tableResultSettingsMap": {},
     "title": ""
    }
   },
   "outputs": [],
   "source": [
    "# Caminho das pastas das Camadas\n",
    "bronze_path = \"abfss://uc-external-curso-databricks-vf@sacursodatabricksvf.dfs.core.windows.net/bikestore/bronze/\"\n",
    "silver_path = \"abfss://uc-external-curso-databricks-vf@sacursodatabricksvf.dfs.core.windows.net/bikestore/silver/\"\n",
    "fold_path = \"abfss://uc-external-curso-databricks-vf@sacursodatabricksvf.dfs.core.windows.net/bikestore/gold/\"\n",
    "resource_path = \"abfss://uc-external-curso-databricks-vf@sacursodatabricksvf.dfs.core.windows.net/bikestore/resource/origem\"\n",
    "resource_path_volume = \"/Volumes/bikestore/logistica/bikestore_resource/origem/\""
   ]
  },
  {
   "cell_type": "code",
   "execution_count": 0,
   "metadata": {
    "application/vnd.databricks.v1+cell": {
     "cellMetadata": {
      "byteLimit": 2048000,
      "rowLimit": 10000
     },
     "inputWidgets": {},
     "nuid": "e02201ce-65c1-4e43-850b-cd7aa1e876bb",
     "showTitle": false,
     "tableResultSettingsMap": {},
     "title": ""
    }
   },
   "outputs": [],
   "source": [
    "# TempViews\n",
    "bronze_map= {\n",
    "    \"tmp_bronze_brands\": f\"{bronze_path}/brands/\",\n",
    "    \"tmp_bronze_categories\": f\"{bronze_path}/categories/\",\n",
    "    #\"tmp_bronze_customers\": f\"{bronze_path}/customers/\",\n",
    "    #\"tmp_bronze_order_items\": f\"{bronze_path}/order_items/\",\n",
    "    #\"tmp_bronze_orders\": f\"{bronze_path}/orders/\",\n",
    "    \"tmp_bronze_products\": f\"{bronze_path}/products/\",\n",
    "    #\"tmp_bronze_staffs\": f\"{bronze_path}/staffs/\",\n",
    "    \"tmp_bronze_stocks\": f\"{bronze_path}/stocks/\",\n",
    "    #\"tmp_bronze_stores\": f\"{bronze_path}/stores/\",\n",
    "}\n",
    "for view_name, path in bronze_map.items():\n",
    "    (spark.read.format(\"delta\")\n",
    "     .load(path)\n",
    "     .createOrReplaceTempView(view_name))"
   ]
  },
  {
   "cell_type": "code",
   "execution_count": 0,
   "metadata": {
    "application/vnd.databricks.v1+cell": {
     "cellMetadata": {
      "byteLimit": 2048000,
      "rowLimit": 10000
     },
     "inputWidgets": {},
     "nuid": "198f4e36-ba0a-49c6-a392-3cafb72e1afa",
     "showTitle": false,
     "tableResultSettingsMap": {},
     "title": ""
    }
   },
   "outputs": [],
   "source": [
    "df_prodcut_silver = spark.sql(\"\"\"\n",
    "with \n",
    "  stock as (\n",
    "  select \n",
    "  product_id,\n",
    "  sum(quantity) as total_stock\n",
    "from tmp_bronze_stocks\n",
    "group by product_id\n",
    ")\n",
    "\n",
    "select\n",
    "  -- b.brand_id as brand_id_brand,\n",
    "  b.brand_name,\n",
    "  p.product_id,\n",
    "  p.product_name,\n",
    "  -- p.brand_id,\n",
    "  c.category_name,\n",
    "  -- c.category_id as category_id_categoriat,\n",
    "  -- p.category_id,\n",
    "  p.model_year,\n",
    "  p.list_price,\n",
    "  s.total_stock\n",
    "from\n",
    "  tmp_bronze_products as p\n",
    "    left join tmp_bronze_categories as c\n",
    "      on p.category_id = c.category_id\n",
    "    left join tmp_bronze_brands as b\n",
    "      on p.brand_id = b.brand_id\n",
    "    left join stock as s\n",
    "      on p.product_id = s.product_id                               \n",
    "                                   \"\"\")\n",
    "\n",
    "# salvando em delta na Silver\n",
    "df_prodcut_silver.write.mode(\"overwrite\").format(\"delta\").save(f\"{silver_path}/product\")"
   ]
  }
 ],
 "metadata": {
  "application/vnd.databricks.v1+notebook": {
   "computePreferences": null,
   "dashboards": [],
   "environmentMetadata": {
    "base_environment": "",
    "environment_version": "3"
   },
   "inputWidgetPreferences": null,
   "language": "python",
   "notebookMetadata": {
    "mostRecentlyExecutedCommandWithImplicitDF": {
     "commandId": 7990648352376318,
     "dataframes": [
      "_sqldf"
     ]
    },
    "pythonIndentUnit": 4
   },
   "notebookName": "01.Silver Produtos - Prod",
   "widgets": {}
  },
  "language_info": {
   "name": "python"
  }
 },
 "nbformat": 4,
 "nbformat_minor": 0
}
