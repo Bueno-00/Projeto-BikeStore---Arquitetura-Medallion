{
 "cells": [
  {
   "cell_type": "markdown",
   "metadata": {
    "application/vnd.databricks.v1+cell": {
     "cellMetadata": {
      "byteLimit": 2048000,
      "rowLimit": 10000
     },
     "inputWidgets": {},
     "nuid": "2bbb437d-c0b9-4b1c-939e-8392b2a25de1",
     "showTitle": false,
     "tableResultSettingsMap": {},
     "title": ""
    }
   },
   "source": [
    "Criar uma tabela de Clientes para a equipe de marketing:\n",
    "**Importante  somente pessoas que tenham e-mail e telefone cadastrados**"
   ]
  },
  {
   "cell_type": "code",
   "execution_count": 0,
   "metadata": {
    "application/vnd.databricks.v1+cell": {
     "cellMetadata": {
      "byteLimit": 2048000,
      "rowLimit": 10000
     },
     "inputWidgets": {},
     "nuid": "bb34462b-da1b-448c-b9cd-9f8698270d37",
     "showTitle": false,
     "tableResultSettingsMap": {},
     "title": ""
    }
   },
   "outputs": [],
   "source": [
    "%python\n",
    "bronze_path = \"abfss://uc-external-curso-databricks-vf@sacursodatabricksvf.dfs.core.windows.net/bikestore/bronze/\"\n",
    "silver_path = \"abfss://uc-external-curso-databricks-vf@sacursodatabricksvf.dfs.core.windows.net/bikestore/silver/\"\n",
    "gold_path = \"abfss://uc-external-curso-databricks-vf@sacursodatabricksvf.dfs.core.windows.net/bikestore/gold/\"\n",
    "resource_path = \"abfss://uc-external-curso-databricks-vf@sacursodatabricksvf.dfs.core.windows.net/bikestore/resource/origem\"\n",
    "resource_path_volume = \"/Volumes/bikestore/logistica/bikestore_resource/origem/\""
   ]
  },
  {
   "cell_type": "code",
   "execution_count": 0,
   "metadata": {
    "application/vnd.databricks.v1+cell": {
     "cellMetadata": {
      "byteLimit": 2048000,
      "rowLimit": 10000
     },
     "inputWidgets": {},
     "nuid": "e02201ce-65c1-4e43-850b-cd7aa1e876bb",
     "showTitle": false,
     "tableResultSettingsMap": {},
     "title": ""
    }
   },
   "outputs": [],
   "source": [
    "%python\n",
    "bronze_map= {\n",
    "    #\"tmp_bronze_brands\": f\"{bronze_path}/brands/\",\n",
    "    #\"tmp_bronze_categories\": f\"{bronze_path}/categories/\",\n",
    "    \"tmp_bronze_customers\": f\"{bronze_path}/customers/\",\n",
    "    #\"tmp_bronze_order_items\": f\"{bronze_path}/order_items/\",\n",
    "    #\"tmp_bronze_orders\": f\"{bronze_path}/orders/\",\n",
    "    #\"tmp_bronze_products\": f\"{bronze_path}/products/\",\n",
    "    #\"tmp_bronze_staffs\": f\"{bronze_path}/staffs/\",\n",
    "    #\"tmp_bronze_stocks\": f\"{bronze_path}/stocks/\",\n",
    "    #\"tmp_bronze_stores\": f\"{bronze_path}/stores/\",\n",
    "}\n",
    "for view_name, path in bronze_map.items():\n",
    "    (spark.read.format(\"delta\")\n",
    "     .load(path)\n",
    "     .createOrReplaceTempView(view_name))"
   ]
  },
  {
   "cell_type": "code",
   "execution_count": 0,
   "metadata": {
    "application/vnd.databricks.v1+cell": {
     "cellMetadata": {
      "byteLimit": 2048000,
      "rowLimit": 10000
     },
     "inputWidgets": {},
     "nuid": "eaa96bd4-bb2a-4f25-89eb-7282bdb27593",
     "showTitle": false,
     "tableResultSettingsMap": {},
     "title": ""
    }
   },
   "outputs": [],
   "source": [
    "%python\n",
    "df_customer_silver = spark.sql(\"\"\"\n",
    "SELECT\n",
    "  ct.customer_id,\n",
    "  ct.first_name,\n",
    "  ct.last_name,\n",
    "  ct.phone,\n",
    "  ct.email\n",
    "FROM\n",
    "  tmp_bronze_customers as ct\n",
    "WHERE 1=1\n",
    "  AND ct.phone IS NOT NULL\n",
    "  AND ct.phone NOT IN (\"NULL\", \"NULL \")\n",
    "  AND ct.email IS NOT NULL\n",
    "  AND ct.email NOT IN (\"NULL\", \"NULL \")                            \n",
    "                                   \"\"\")\n",
    "\n",
    "# salvando em delta na Silver\n",
    "df_customer_silver.write.mode(\"overwrite\").format(\"delta\").save(f\"{silver_path}/customer\")"
   ]
  }
 ],
 "metadata": {
  "application/vnd.databricks.v1+notebook": {
   "computePreferences": null,
   "dashboards": [],
   "environmentMetadata": {
    "base_environment": "",
    "environment_version": "3"
   },
   "inputWidgetPreferences": null,
   "language": "sql",
   "notebookMetadata": {
    "mostRecentlyExecutedCommandWithImplicitDF": {
     "commandId": 7841662912640789,
     "dataframes": [
      "_sqldf"
     ]
    },
    "pythonIndentUnit": 4
   },
   "notebookName": "03.Silver Costumers",
   "widgets": {}
  },
  "language_info": {
   "name": "sql"
  }
 },
 "nbformat": 4,
 "nbformat_minor": 0
}
