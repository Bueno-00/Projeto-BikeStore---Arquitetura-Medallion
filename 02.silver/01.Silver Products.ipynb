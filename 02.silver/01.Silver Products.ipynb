{
 "cells": [
  {
   "cell_type": "markdown",
   "metadata": {
    "application/vnd.databricks.v1+cell": {
     "cellMetadata": {},
     "inputWidgets": {},
     "nuid": "2bbb437d-c0b9-4b1c-939e-8392b2a25de1",
     "showTitle": false,
     "tableResultSettingsMap": {},
     "title": ""
    }
   },
   "source": [
    "**Criar uma tabela de produtos ja unindo categoria, marca e quantidade total de estoque em todas as lojas**"
   ]
  },
  {
   "cell_type": "code",
   "execution_count": 0,
   "metadata": {
    "application/vnd.databricks.v1+cell": {
     "cellMetadata": {
      "byteLimit": 2048000,
      "rowLimit": 10000
     },
     "inputWidgets": {},
     "nuid": "bb34462b-da1b-448c-b9cd-9f8698270d37",
     "showTitle": false,
     "tableResultSettingsMap": {},
     "title": ""
    }
   },
   "outputs": [],
   "source": [
    "bronze_path = \"abfss://uc-external-curso-databricks-vf@sacursodatabricksvf.dfs.core.windows.net/bikestore/bronze/\"\n",
    "silver_path = \"abfss://uc-external-curso-databricks-vf@sacursodatabricksvf.dfs.core.windows.net/bikestore/silver/\"\n",
    "fold_path = \"abfss://uc-external-curso-databricks-vf@sacursodatabricksvf.dfs.core.windows.net/bikestore/gold/\"\n",
    "resource_path = \"abfss://uc-external-curso-databricks-vf@sacursodatabricksvf.dfs.core.windows.net/bikestore/resource/origem\"\n",
    "resource_path_volume = \"/Volumes/bikestore/logistica/bikestore_resource/origem/\""
   ]
  },
  {
   "cell_type": "code",
   "execution_count": 0,
   "metadata": {
    "application/vnd.databricks.v1+cell": {
     "cellMetadata": {
      "byteLimit": 2048000,
      "rowLimit": 10000
     },
     "inputWidgets": {},
     "nuid": "e02201ce-65c1-4e43-850b-cd7aa1e876bb",
     "showTitle": false,
     "tableResultSettingsMap": {},
     "title": ""
    }
   },
   "outputs": [],
   "source": [
    "bronze_map= {\n",
    "    \"tmp_bronze_brands\": f\"{bronze_path}/brands/\",\n",
    "    \"tmp_bronze_categories\": f\"{bronze_path}/categories/\",\n",
    "    \"tmp_bronze_customers\": f\"{bronze_path}/customers/\",\n",
    "    \"tmp_bronze_order_items\": f\"{bronze_path}/order_items/\",\n",
    "    \"tmp_bronze_orders\": f\"{bronze_path}/orders/\",\n",
    "    \"tmp_bronze_products\": f\"{bronze_path}/products/\",\n",
    "    \"tmp_bronze_staffs\": f\"{bronze_path}/staffs/\",\n",
    "    \"tmp_bronze_stocks\": f\"{bronze_path}/stocks/\",\n",
    "    \"tmp_bronze_stores\": f\"{bronze_path}/stores/\",\n",
    "}\n",
    "for view_name, path in bronze_map.items():\n",
    "    (spark.read.format(\"delta\")\n",
    "     .load(path)\n",
    "     .createOrReplaceTempView(view_name))"
   ]
  },
  {
   "cell_type": "code",
   "execution_count": 0,
   "metadata": {
    "application/vnd.databricks.v1+cell": {
     "cellMetadata": {
      "byteLimit": 2048000,
      "implicitDf": true,
      "rowLimit": 10000
     },
     "inputWidgets": {},
     "nuid": "a90b66bf-a048-4348-92a2-1913567dfb40",
     "showTitle": false,
     "tableResultSettingsMap": {
      "0": {
       "dataGridStateBlob": "{\"version\":1,\"tableState\":{\"columnPinning\":{\"left\":[\"#row_number#\"],\"right\":[]},\"columnSizing\":{},\"columnVisibility\":{}},\"settings\":{\"columns\":{}},\"syncTimestamp\":1759022179189}",
       "filterBlob": null,
       "queryPlanFiltersBlob": null,
       "tableResultIndex": 0
      }
     },
     "title": ""
    }
   },
   "outputs": [],
   "source": [
    "%sql\n",
    "select * from tmp_bronze_brands"
   ]
  },
  {
   "cell_type": "code",
   "execution_count": 0,
   "metadata": {
    "application/vnd.databricks.v1+cell": {
     "cellMetadata": {
      "byteLimit": 2048000,
      "rowLimit": 10000
     },
     "collapsed": true,
     "inputWidgets": {},
     "nuid": "83dc6060-f845-46d2-bfd9-13cbfc89e3c9",
     "showTitle": false,
     "tableResultSettingsMap": {},
     "title": ""
    }
   },
   "outputs": [],
   "source": [
    "df_prodcut_silver= spark.sql(\"\"\"\n",
    "    select\n",
    "    p.product_id,\n",
    "    p.product_name,\n",
    "    p.brand_id,\n",
    "    c.category_name,\n",
    "    -- c.category_id as category_id_categoriat,\n",
    "    -- p.category_id,\n",
    "    p.model_year,\n",
    "    p.list_price\n",
    "    from tmp_bronze_products as p\n",
    "    left join tmp_bronze_categories as c on p.category_id = c.category_id\"\"\")\n",
    "\n",
    "display(df_prodcut_silver)"
   ]
  },
  {
   "cell_type": "code",
   "execution_count": 0,
   "metadata": {
    "application/vnd.databricks.v1+cell": {
     "cellMetadata": {
      "byteLimit": 2048000,
      "implicitDf": true,
      "rowLimit": 10000
     },
     "inputWidgets": {},
     "nuid": "cc40a07f-07c1-4cc2-81e2-f16945448f32",
     "showTitle": false,
     "tableResultSettingsMap": {
      "0": {
       "dataGridStateBlob": "{\"version\":1,\"tableState\":{\"columnPinning\":{\"left\":[\"#row_number#\"],\"right\":[]},\"columnSizing\":{},\"columnVisibility\":{}},\"settings\":{\"columns\":{}},\"syncTimestamp\":1759022383943}",
       "filterBlob": null,
       "queryPlanFiltersBlob": null,
       "tableResultIndex": 0
      }
     },
     "title": ""
    }
   },
   "outputs": [],
   "source": [
    "%sql\n",
    "-- CONSULTA PRINCIPAL\n",
    "select\n",
    "  -- b.brand_id as brand_id_brand,\n",
    "  b.brand_name,\n",
    "  p.product_id,\n",
    "  p.product_name,\n",
    "  -- p.brand_id,\n",
    "  c.category_name,\n",
    "  -- c.category_id as category_id_categoriat,\n",
    "  -- p.category_id,\n",
    "  p.model_year,\n",
    "  p.list_price\n",
    "from\n",
    "  tmp_bronze_products as p\n",
    "    left join tmp_bronze_categories as c\n",
    "      on p.category_id = c.category_id\n",
    "    left join tmp_bronze_brands as b\n",
    "      on p.brand_id = b.brand_id"
   ]
  },
  {
   "cell_type": "code",
   "execution_count": 0,
   "metadata": {
    "application/vnd.databricks.v1+cell": {
     "cellMetadata": {
      "byteLimit": 2048000,
      "implicitDf": true,
      "rowLimit": 10000
     },
     "inputWidgets": {},
     "nuid": "cf662f03-9b2a-4b2b-a280-5e0024f99401",
     "showTitle": false,
     "tableResultSettingsMap": {
      "0": {
       "dataGridStateBlob": "{\"version\":1,\"tableState\":{\"columnPinning\":{\"left\":[\"#row_number#\"],\"right\":[]},\"columnSizing\":{},\"columnVisibility\":{}},\"settings\":{\"columns\":{}},\"syncTimestamp\":1759023691764}",
       "filterBlob": null,
       "queryPlanFiltersBlob": null,
       "tableResultIndex": 0
      }
     },
     "title": ""
    }
   },
   "outputs": [],
   "source": [
    "%sql\n",
    "\n",
    "with \n",
    "  stock as (\n",
    "  select \n",
    "  product_id,\n",
    "  sum(quantity) as total_stock\n",
    "from tmp_bronze_stocks\n",
    "group by product_id\n",
    ")\n",
    "\n",
    "select\n",
    "  -- b.brand_id as brand_id_brand,\n",
    "  b.brand_name,\n",
    "  p.product_id,\n",
    "  p.product_name,\n",
    "  -- p.brand_id,\n",
    "  c.category_name,\n",
    "  -- c.category_id as category_id_categoriat,\n",
    "  -- p.category_id,\n",
    "  p.model_year,\n",
    "  p.list_price,\n",
    "  s.total_stock\n",
    "from\n",
    "  tmp_bronze_products as p\n",
    "    left join tmp_bronze_categories as c\n",
    "      on p.category_id = c.category_id\n",
    "    left join tmp_bronze_brands as b\n",
    "      on p.brand_id = b.brand_id\n",
    "    left join stock as s\n",
    "      on p.product_id = s.product_id"
   ]
  },
  {
   "cell_type": "code",
   "execution_count": 0,
   "metadata": {
    "application/vnd.databricks.v1+cell": {
     "cellMetadata": {
      "byteLimit": 2048000,
      "rowLimit": 10000
     },
     "inputWidgets": {},
     "nuid": "eaa96bd4-bb2a-4f25-89eb-7282bdb27593",
     "showTitle": false,
     "tableResultSettingsMap": {},
     "title": ""
    }
   },
   "outputs": [],
   "source": [
    "df_prodcut_silver = spark.sql(\"\"\"\n",
    "with \n",
    "  stock as (\n",
    "  select \n",
    "  product_id,\n",
    "  sum(quantity) as total_stock\n",
    "from tmp_bronze_stocks\n",
    "group by product_id\n",
    ")\n",
    "\n",
    "select\n",
    "  -- b.brand_id as brand_id_brand,\n",
    "  b.brand_name,\n",
    "  p.product_id,\n",
    "  p.product_name,\n",
    "  -- p.brand_id,\n",
    "  c.category_name,\n",
    "  -- c.category_id as category_id_categoriat,\n",
    "  -- p.category_id,\n",
    "  p.model_year,\n",
    "  p.list_price,\n",
    "  s.total_stock\n",
    "from\n",
    "  tmp_bronze_products as p\n",
    "    left join tmp_bronze_categories as c\n",
    "      on p.category_id = c.category_id\n",
    "    left join tmp_bronze_brands as b\n",
    "      on p.brand_id = b.brand_id\n",
    "    left join stock as s\n",
    "      on p.product_id = s.product_id                               \n",
    "                                   \"\"\")\n",
    "\n",
    "# salvando em delta na Silver\n",
    "df_prodcut_silver.write.mode(\"overwrite\").format(\"delta\").save(f\"{silver_path}/product\")"
   ]
  },
  {
   "cell_type": "code",
   "execution_count": 0,
   "metadata": {
    "application/vnd.databricks.v1+cell": {
     "cellMetadata": {
      "byteLimit": 2048000,
      "implicitDf": true,
      "rowLimit": 10000
     },
     "inputWidgets": {},
     "nuid": "566872d2-31dd-41a3-8abe-19910375844f",
     "showTitle": false,
     "tableResultSettingsMap": {},
     "title": ""
    }
   },
   "outputs": [],
   "source": [
    "%sql\n",
    "create table if not exists bikestore.logistica.silver_products\n",
    "location \"abfss://uc-external-curso-databricks-vf@sacursodatabricksvf.dfs.core.windows.net/bikestore/silver/product\""
   ]
  },
  {
   "cell_type": "code",
   "execution_count": 0,
   "metadata": {
    "application/vnd.databricks.v1+cell": {
     "cellMetadata": {
      "byteLimit": 2048000,
      "implicitDf": true,
      "rowLimit": 10000
     },
     "inputWidgets": {},
     "nuid": "d1a4f1e1-ed3a-490c-8963-f1043054f339",
     "showTitle": false,
     "tableResultSettingsMap": {},
     "title": ""
    }
   },
   "outputs": [],
   "source": [
    "%sql\n",
    "select * from bikestore.logistica.silver_products"
   ]
  }
 ],
 "metadata": {
  "application/vnd.databricks.v1+notebook": {
   "computePreferences": null,
   "dashboards": [],
   "environmentMetadata": {
    "base_environment": "",
    "environment_version": "3"
   },
   "inputWidgetPreferences": null,
   "language": "python",
   "notebookMetadata": {
    "mostRecentlyExecutedCommandWithImplicitDF": {
     "commandId": 8436889510925403,
     "dataframes": [
      "_sqldf"
     ]
    },
    "pythonIndentUnit": 4
   },
   "notebookName": "01.Silver Products",
   "widgets": {}
  },
  "language_info": {
   "name": "python"
  }
 },
 "nbformat": 4,
 "nbformat_minor": 0
}
