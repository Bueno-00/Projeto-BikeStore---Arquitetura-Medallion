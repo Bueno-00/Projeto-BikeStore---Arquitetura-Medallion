{
 "cells": [
  {
   "cell_type": "markdown",
   "metadata": {
    "application/vnd.databricks.v1+cell": {
     "cellMetadata": {
      "byteLimit": 2048000,
      "rowLimit": 10000
     },
     "inputWidgets": {},
     "nuid": "e171ad0a-53a0-4e5a-958f-06ec86b3cfec",
     "showTitle": false,
     "tableResultSettingsMap": {},
     "title": ""
    }
   },
   "source": [
    "Criar uma tabela de ordens ja com:\n",
    "quantidade de itens, vendedores, lojas, mapeamento de Status e valor total da venda (valor total - Desconto)\n",
    "\n",
    "Mapeamento Status:\n",
    "  1 THEN \"Pending\"\n",
    "  2 THEN \"Processing\"\n",
    "  3 THEN \"Shipped\"\n",
    "  4 THEN \"Delivered\"\n",
    "  ELSE \"Unknown\""
   ]
  },
  {
   "cell_type": "code",
   "execution_count": 0,
   "metadata": {
    "application/vnd.databricks.v1+cell": {
     "cellMetadata": {
      "byteLimit": 2048000,
      "rowLimit": 10000
     },
     "inputWidgets": {},
     "nuid": "a03bdfdc-1e79-4105-a112-a662d3c09dab",
     "showTitle": false,
     "tableResultSettingsMap": {},
     "title": ""
    }
   },
   "outputs": [],
   "source": [
    "%python\n",
    "bronze_path = \"abfss://uc-external-curso-databricks-vf@sacursodatabricksvf.dfs.core.windows.net/bikestore/bronze/\"\n",
    "silver_path = \"abfss://uc-external-curso-databricks-vf@sacursodatabricksvf.dfs.core.windows.net/bikestore/silver/\"\n",
    "fold_path = \"abfss://uc-external-curso-databricks-vf@sacursodatabricksvf.dfs.core.windows.net/bikestore/gold/\"\n",
    "resource_path = \"abfss://uc-external-curso-databricks-vf@sacursodatabricksvf.dfs.core.windows.net/bikestore/resource/origem\"\n",
    "resource_path_volume = \"/Volumes/bikestore/logistica/bikestore_resource/origem/\""
   ]
  },
  {
   "cell_type": "code",
   "execution_count": 0,
   "metadata": {
    "application/vnd.databricks.v1+cell": {
     "cellMetadata": {
      "byteLimit": 2048000,
      "rowLimit": 10000
     },
     "inputWidgets": {},
     "nuid": "6045caec-7885-4d00-bd9f-6b81ae567c29",
     "showTitle": false,
     "tableResultSettingsMap": {},
     "title": ""
    }
   },
   "outputs": [],
   "source": [
    "%python\n",
    "bronze_map= {\n",
    "    \"tmp_bronze_brands\": f\"{bronze_path}/brands/\",\n",
    "    \"tmp_bronze_categories\": f\"{bronze_path}/categories/\",\n",
    "    \"tmp_bronze_customers\": f\"{bronze_path}/customers/\",\n",
    "    \"tmp_bronze_order_items\": f\"{bronze_path}/order_items/\",\n",
    "    \"tmp_bronze_orders\": f\"{bronze_path}/orders/\",\n",
    "    \"tmp_bronze_products\": f\"{bronze_path}/products/\",\n",
    "    \"tmp_bronze_staffs\": f\"{bronze_path}/staffs/\",\n",
    "    \"tmp_bronze_stocks\": f\"{bronze_path}/stocks/\",\n",
    "    \"tmp_bronze_stores\": f\"{bronze_path}/stores/\",\n",
    "}\n",
    "for view_name, path in bronze_map.items():\n",
    "    (spark.read.format(\"delta\")\n",
    "     .load(path)\n",
    "     .createOrReplaceTempView(view_name))"
   ]
  },
  {
   "cell_type": "code",
   "execution_count": 0,
   "metadata": {
    "application/vnd.databricks.v1+cell": {
     "cellMetadata": {
      "byteLimit": 2048000,
      "rowLimit": 10000
     },
     "inputWidgets": {},
     "nuid": "4a02c4b4-53d9-494a-8031-250a70e9c625",
     "showTitle": false,
     "tableResultSettingsMap": {},
     "title": ""
    }
   },
   "outputs": [],
   "source": [
    "%python\n",
    "df_orders_silver = spark.sql(\"\"\"\n",
    "                              with order_items as (\n",
    "  select\n",
    "    oi.order_id,\n",
    "    oi.item_id,\n",
    "    oi.product_id,\n",
    "    oi.quantity,\n",
    "    oi.list_price,\n",
    "    oi.discount,\n",
    "    ROUND(oi.list_price * oi.quantity * (1 - oi.discount), 2) as total_sale\n",
    "  from\n",
    "    tmp_bronze_order_items oi\n",
    ")\n",
    "select\n",
    "  o.order_id,\n",
    "  o.customer_id,\n",
    "  CASE\n",
    "    WHEN o.order_status = 1 THEN \"Pending\"\n",
    "    WHEN o.order_status = 2 THEN \"Processing\"\n",
    "    WHEN o.order_status = 3 THEN \"Shipped\"\n",
    "    WHEN o.order_status = 4 THEN \"Delivered\"\n",
    "    ELSE \"Unknown\"\n",
    "  END status,\n",
    "  o.order_status,\n",
    "  st.store_name,\n",
    "  st.city,\n",
    "  st.state,\n",
    "  s.active,\n",
    "  s.first_name,\n",
    "  s.email,\n",
    "  o.order_date,\n",
    "  o.required_date,\n",
    "  o.shipped_date,\n",
    "  oi.product_id,\n",
    "  oi.quantity,\n",
    "  oi.total_sale,\n",
    "  oi.list_price,\n",
    "  oi.discount\n",
    "from\n",
    "  tmp_bronze_orders as o\n",
    "    left join tmp_bronze_staffs as s\n",
    "      on o.staff_id = s.staff_id\n",
    "    left join tmp_bronze_stores as st\n",
    "      on o.store_id = st.store_id\n",
    "    left join order_items as oi\n",
    "      on o.order_id = oi.order_id                             \n",
    "                                   \"\"\")\n",
    "\n",
    "# salvando em delta na Silver\n",
    "df_orders_silver.write.mode(\"overwrite\").format(\"delta\").save(f\"{silver_path}/orders\")"
   ]
  },
  {
   "cell_type": "code",
   "execution_count": 0,
   "metadata": {
    "application/vnd.databricks.v1+cell": {
     "cellMetadata": {
      "byteLimit": 2048000,
      "rowLimit": 10000
     },
     "inputWidgets": {},
     "nuid": "a8c992c4-6bfa-40d6-94c1-e3051b8a4543",
     "showTitle": false,
     "tableResultSettingsMap": {},
     "title": ""
    }
   },
   "outputs": [],
   "source": [
    "create table if not exists bikestore.logistica.silver_orders\n",
    "location \"abfss://uc-external-curso-databricks-vf@sacursodatabricksvf.dfs.core.windows.net/bikestore/silver/orders\""
   ]
  },
  {
   "cell_type": "code",
   "execution_count": 0,
   "metadata": {
    "application/vnd.databricks.v1+cell": {
     "cellMetadata": {
      "byteLimit": 2048000,
      "rowLimit": 10000
     },
     "inputWidgets": {},
     "nuid": "351b4581-cf34-4f82-9f2c-ee6b455fc4eb",
     "showTitle": false,
     "tableResultSettingsMap": {},
     "title": ""
    }
   },
   "outputs": [],
   "source": [
    "SELECT * FROM bikestore.logistica.silver_orders LIMIT 15"
   ]
  }
 ],
 "metadata": {
  "application/vnd.databricks.v1+notebook": {
   "computePreferences": {
    "hardware": {
     "accelerator": null,
     "gpuPoolId": null,
     "memory": null
    }
   },
   "dashboards": [],
   "environmentMetadata": {
    "base_environment": "",
    "environment_version": "3"
   },
   "inputWidgetPreferences": null,
   "language": "sql",
   "notebookMetadata": {
    "mostRecentlyExecutedCommandWithImplicitDF": {
     "commandId": -1,
     "dataframes": [
      "_sqldf"
     ]
    },
    "pythonIndentUnit": 4
   },
   "notebookName": "02.Silver Orders",
   "widgets": {}
  },
  "language_info": {
   "name": "sql"
  }
 },
 "nbformat": 4,
 "nbformat_minor": 0
}
